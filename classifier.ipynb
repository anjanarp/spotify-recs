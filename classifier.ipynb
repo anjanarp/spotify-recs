{
 "cells": [
  {
   "cell_type": "code",
   "execution_count": 1,
   "metadata": {},
   "outputs": [],
   "source": [
    "import numpy as np\n",
    "import pandas as pd\n",
    "from sklearn.model_selection import train_test_split\n",
    "import ast\n",
    "\n"
   ]
  },
  {
   "cell_type": "code",
   "execution_count": 2,
   "metadata": {},
   "outputs": [],
   "source": [
    "combined_songs_df = pd.read_csv('combined_songs_data.csv')"
   ]
  },
  {
   "cell_type": "code",
   "execution_count": 3,
   "metadata": {},
   "outputs": [
    {
     "ename": "SyntaxError",
     "evalue": "invalid syntax. Perhaps you forgot a comma? (<unknown>, line 1)",
     "output_type": "error",
     "traceback": [
      "Traceback \u001b[0;36m(most recent call last)\u001b[0m:\n",
      "\u001b[0m  File \u001b[1;32m~/Desktop/language_classification/mood-env/lib/python3.12/site-packages/IPython/core/interactiveshell.py:3577\u001b[0m in \u001b[1;35mrun_code\u001b[0m\n    exec(code_obj, self.user_global_ns, self.user_ns)\u001b[0m\n",
      "\u001b[0m  Cell \u001b[1;32mIn[3], line 1\u001b[0m\n    combined_songs_df['song_embedding'] = combined_songs_df['song_embedding'].apply(ast.literal_eval)\u001b[0m\n",
      "\u001b[0m  File \u001b[1;32m~/Desktop/language_classification/mood-env/lib/python3.12/site-packages/pandas/core/series.py:4924\u001b[0m in \u001b[1;35mapply\u001b[0m\n    ).apply()\u001b[0m\n",
      "\u001b[0m  File \u001b[1;32m~/Desktop/language_classification/mood-env/lib/python3.12/site-packages/pandas/core/apply.py:1427\u001b[0m in \u001b[1;35mapply\u001b[0m\n    return self.apply_standard()\u001b[0m\n",
      "\u001b[0m  File \u001b[1;32m~/Desktop/language_classification/mood-env/lib/python3.12/site-packages/pandas/core/apply.py:1507\u001b[0m in \u001b[1;35mapply_standard\u001b[0m\n    mapped = obj._map_values(\u001b[0m\n",
      "\u001b[0m  File \u001b[1;32m~/Desktop/language_classification/mood-env/lib/python3.12/site-packages/pandas/core/base.py:921\u001b[0m in \u001b[1;35m_map_values\u001b[0m\n    return algorithms.map_array(arr, mapper, na_action=na_action, convert=convert)\u001b[0m\n",
      "\u001b[0m  File \u001b[1;32m~/Desktop/language_classification/mood-env/lib/python3.12/site-packages/pandas/core/algorithms.py:1743\u001b[0m in \u001b[1;35mmap_array\u001b[0m\n    return lib.map_infer(values, mapper, convert=convert)\u001b[0m\n",
      "\u001b[0m  File \u001b[1;32mlib.pyx:2972\u001b[0m in \u001b[1;35mpandas._libs.lib.map_infer\u001b[0m\n",
      "\u001b[0m  File \u001b[1;32m/Library/Frameworks/Python.framework/Versions/3.12/lib/python3.12/ast.py:66\u001b[0m in \u001b[1;35mliteral_eval\u001b[0m\n    node_or_string = parse(node_or_string.lstrip(\" \\t\"), mode='eval')\u001b[0m\n",
      "\u001b[0;36m  File \u001b[0;32m/Library/Frameworks/Python.framework/Versions/3.12/lib/python3.12/ast.py:52\u001b[0;36m in \u001b[0;35mparse\u001b[0;36m\n\u001b[0;31m    return compile(source, filename, mode, flags,\u001b[0;36m\n",
      "\u001b[0;36m  File \u001b[0;32m<unknown>:1\u001b[0;36m\u001b[0m\n\u001b[0;31m    [ 8.15008115e-03  4.67763543e-02 -1.37771353e-01  2.36319944e-01\u001b[0m\n\u001b[0m      ^\u001b[0m\n\u001b[0;31mSyntaxError\u001b[0m\u001b[0;31m:\u001b[0m invalid syntax. Perhaps you forgot a comma?\n"
     ]
    }
   ],
   "source": [
    "combined_songs_df['song_embedding'] = combined_songs_df['song_embedding'].apply(ast.literal_eval)\n",
    "combined_songs_df['singer_embedding'] = combined_songs_df['singer_embedding'].apply(ast.literal_eval)"
   ]
  },
  {
   "cell_type": "code",
   "execution_count": 3,
   "metadata": {},
   "outputs": [],
   "source": [
    "min_samples = 30\n",
    "\n",
    "language_counts = combined_songs_df['language_code_encoded'].value_counts()\n",
    "\n",
    "languages_to_keep = language_counts[language_counts >= min_samples].index\n",
    "\n",
    "filtered_combined_songs_df = combined_songs_df[combined_songs_df['language_code_encoded'].isin(languages_to_keep)]\n"
   ]
  },
  {
   "cell_type": "code",
   "execution_count": 7,
   "metadata": {},
   "outputs": [
    {
     "name": "stdout",
     "output_type": "stream",
     "text": [
      "song_name                 object\n",
      "singer                    object\n",
      "popularity               float64\n",
      "danceability             float64\n",
      "energy                   float64\n",
      "key                      float64\n",
      "loudness                 float64\n",
      "mode                     float64\n",
      "speechiness              float64\n",
      "acousticness             float64\n",
      "liveness                 float64\n",
      "Valence                  float64\n",
      "tempo                    float64\n",
      "language_code             object\n",
      "song_embedding            object\n",
      "singer_embedding          object\n",
      "language_code_encoded      int64\n",
      "dtype: object\n"
     ]
    }
   ],
   "source": [
    "print(filtered_combined_songs_df.dtypes)"
   ]
  },
  {
   "cell_type": "code",
   "execution_count": 4,
   "metadata": {},
   "outputs": [],
   "source": [
    "numerical_features = ['popularity', 'danceability', 'energy', 'key', \n",
    "                      'loudness', 'speechiness', 'acousticness', \n",
    "                      'liveness', 'Valence', 'tempo']\n",
    "\n",
    "numerical_features_matrix = filtered_combined_songs_df[numerical_features].values\n",
    "\n",
    "song_name_matrix = np.vstack(filtered_combined_songs_df['song_embedding'].values)\n",
    "singer_matrix = np.vstack(filtered_combined_songs_df['singer_embedding'].values)\n",
    "\n",
    "X = np.hstack([numerical_features_matrix, song_name_matrix, singer_matrix])\n",
    "\n",
    "y = filtered_combined_songs_df['language_code_encoded'].values\n"
   ]
  },
  {
   "cell_type": "code",
   "execution_count": 5,
   "metadata": {},
   "outputs": [],
   "source": [
    "X_train, X_test, y_train, y_test = train_test_split(\n",
    "    X, y, test_size=0.2, random_state=42, stratify=y\n",
    ")\n"
   ]
  },
  {
   "cell_type": "code",
   "execution_count": 6,
   "metadata": {},
   "outputs": [
    {
     "ename": "ValueError",
     "evalue": "could not convert string to float: np.str_('[-3.85316342e-01  1.46218920e-02 -8.26908350e-02  8.23198408e-02\\n -1.79666534e-01 -2.90018678e-01  4.48835880e-01  2.64276952e-01\\n  1.81431219e-01 -2.71614850e-01  3.02992046e-01 -6.09444873e-03\\n -1.57531470e-01  2.41995323e-02 -2.48836264e-01 -2.05960169e-01\\n  4.46876884e-03  1.20215885e-01  2.27712572e-01  3.31243426e-02\\n  2.22643852e-01  1.60406366e-01  3.68424393e-02  3.90126295e-02\\n  2.74826959e-02 -1.15977719e-01  8.42377394e-02 -1.55582398e-01\\n  1.72730267e-01 -1.42357960e-01  2.09549665e-01  2.48326406e-01\\n  8.59264433e-02 -8.08431357e-02 -6.38848450e-03 -2.11938899e-02\\n  3.01698633e-02  1.53161570e-01  3.35449219e-01  1.46061227e-01\\n -2.03180715e-01 -1.41717587e-02 -1.28250435e-01  9.78367701e-02\\n -9.88165662e-03 -7.28817806e-02 -2.43692979e-01  1.46324709e-01\\n -1.66519493e-01  1.56772599e-01  1.22013897e-01 -1.78400412e-01\\n -3.69475335e-01 -1.41301095e-01  1.02232568e-01 -1.62985727e-01\\n  8.72811750e-02  1.19230576e-01 -3.16517465e-02  2.96361953e-01\\n  9.95262563e-02  4.65007842e-01 -5.95989704e-01  2.39610225e-01\\n -3.49776864e-01 -3.38980369e-02  2.91907519e-01 -1.58666298e-01\\n -5.08876480e-02  2.82857150e-01  1.12087861e-01  1.44927055e-01\\n  2.17408203e-02 -1.48958629e-02  9.63512063e-03  8.78318697e-02\\n -1.56177226e-02 -5.79797402e-02 -2.35327870e-01 -4.77667376e-02\\n  2.46454820e-01 -1.30723352e-02 -1.33700103e-01  8.79281312e-02\\n  1.38211668e-01  1.45457759e-01  8.48516524e-02  1.65457696e-01\\n  1.18195310e-01  1.89281199e-02  1.88361749e-01 -2.60922641e-01\\n -2.56214454e-03  7.54050910e-02  4.15531516e-01  2.88391262e-01\\n  3.95823531e-02 -5.38012534e-02 -4.21237536e-02  5.01777112e-01\\n -5.56033216e-02  1.12068867e-02 -1.05342738e-01  3.09760198e-02\\n -2.75069871e-03  1.24692153e-02  1.86349422e-01 -7.32914954e-02\\n  1.51747882e-01  5.96852042e-02 -2.91099340e-01 -3.86073850e-02\\n  1.82931833e-02 -2.16289178e-01 -1.06318876e-01 -1.24520339e-01\\n -1.74945652e-01  1.88449681e-01 -1.51097327e-01  1.04489431e-01\\n  6.89928606e-02 -4.51062471e-02  1.41798258e-01  1.19821150e-02\\n  5.85304126e-02 -2.57508546e-01  7.80344382e-02  2.81800419e-01\\n -1.94244701e-02  1.08066469e-01  3.97739917e-01 -8.05157349e-02\\n  2.54438753e-04 -3.26120518e-02 -4.97177094e-02  1.72280110e-02\\n  9.34355631e-02  1.26274358e-02 -1.26796901e-01 -1.85782939e-01\\n -1.52531222e-01 -1.35709301e-01 -2.35758275e-01 -1.29062831e-01\\n  8.93354788e-02  5.79757504e-02  3.30955356e-01  2.87673861e-01\\n  1.74720943e-01  2.63047248e-01 -4.34334911e-02 -2.16450080e-01\\n -1.19913311e-03  4.18936089e-02  5.76584302e-02 -6.11760169e-02\\n  1.05529860e-01 -2.27513677e-03  2.08709091e-01 -1.96268499e-01\\n -3.37897658e-01 -7.22263381e-02 -5.72124915e-03 -1.05010144e-01\\n -2.28522241e-01 -2.34413221e-01 -2.38488436e-01  5.55211045e-02\\n  1.35808885e-01  7.31666610e-02  8.62661190e-03  1.14636339e-01\\n  2.05993522e-02  1.90064982e-01 -6.80866390e-02  2.71237105e-01\\n -1.68632910e-01 -6.98947012e-02 -1.17532715e-01 -3.26212272e-02\\n  1.05552167e-01  1.10469423e-01 -8.35610554e-02 -8.49321336e-02\\n -1.91754088e-01  2.02344790e-01  2.60714442e-01  2.53614545e-01\\n  5.54689430e-02 -9.63511392e-02  2.04116125e-02  7.97514394e-02\\n -1.63521841e-01 -1.74837317e-02 -2.62584180e-01 -2.92930812e-01\\n  6.82456121e-02  2.21965566e-01 -2.53090322e-01  3.32522951e-02\\n -3.12086314e-01 -1.45296633e-01  2.14785904e-01 -2.23318174e-01\\n  1.86901465e-01 -6.94300001e-03 -2.04710454e-01  4.74965572e-03\\n -1.62682936e-01 -3.25397432e-01 -2.55353421e-01  6.82363510e-02\\n -1.59346849e-01  1.24825910e-01  1.30735729e-02  2.24497795e-01\\n  8.53489116e-02 -1.25876188e-01 -1.23784192e-01  6.41062707e-02\\n  5.27963042e-02 -3.17688406e-01 -6.77697957e-02 -4.95255321e-01\\n  1.11296043e-01 -2.28933841e-01 -5.17012738e-02  1.87716447e-02\\n -2.50106603e-01 -6.96783736e-02 -1.01509184e-01 -2.10411362e-02\\n  1.12911552e-01 -3.55956964e-02 -1.13510743e-01  1.34650126e-01\\n  2.31928602e-01 -9.18327123e-02 -2.17194273e-03  1.07085304e-02\\n -1.18707962e-01 -3.36044967e-01 -1.60003021e-01  7.83239398e-03\\n -2.48221695e-01  1.70486309e-02 -7.17848446e-03  2.74064541e-01\\n  4.91690636e-03  5.35785913e-01  5.08453473e-02 -3.09844613e-01\\n -1.21482655e-01  1.84007645e-01  1.36087134e-01 -3.58653069e-02\\n -2.31299363e-02 -3.29445191e-02 -1.77665964e-01  2.86765695e-01\\n  1.77012920e-01  9.24854651e-02 -8.52162838e-02  1.43747598e-01\\n  3.73587385e-02 -4.12512645e-02 -5.97233847e-02  2.82223195e-01\\n  2.49206387e-02  1.09941468e-01  3.56462598e-02 -2.39806831e-01\\n  2.10605145e-01 -3.41155827e-01  2.22558156e-01  4.54941466e-02\\n  4.45613600e-02 -2.18300745e-01  4.54382718e-01 -1.84225962e-01\\n -1.58028930e-01 -3.16148609e-01 -2.68083327e-02 -1.81774035e-01\\n -1.70739755e-01  1.08322196e-01  2.29799971e-02  6.36868179e-02\\n -1.64808974e-01  1.65485702e-02 -2.31076539e-01  4.05985475e-01\\n  4.02686745e-02 -2.44652301e-01  8.24653283e-02 -1.21411078e-01\\n  1.57109573e-01  2.40572050e-01 -2.17072159e-01 -1.05967335e-01\\n -3.41615044e-02 -2.87194899e-03  2.53606141e-01  6.39977341e-04\\n -1.12220936e-01 -2.49492779e-01 -5.13276607e-02 -1.86140627e-01\\n  1.02187410e-01 -1.72406301e-01  1.27979979e-01 -9.40610319e-02\\n  1.17844261e-01 -6.28198087e-02  2.14756891e-01  3.26745629e-01\\n  9.02018398e-02  1.74637869e-01  3.62195373e-01 -5.53362191e-01\\n  3.38910404e-03 -2.62396365e-01 -4.36675370e-01  1.85302719e-01\\n  4.87323068e-02  1.62752628e-01  4.06383350e-02 -4.42671701e-02\\n  1.86608419e-01  2.23040670e-01 -1.70422897e-01  1.80642039e-01\\n -2.20205281e-02 -1.68027416e-01  1.79882184e-01  2.96290159e-01\\n -5.61842993e-02 -5.50088808e-02 -6.38071820e-02 -1.68329790e-01\\n -1.25201404e-01  1.96710736e-01  1.07829869e-02 -4.72772300e-01\\n  1.00196913e-01 -5.38781285e-03 -4.64245826e-02 -2.42681816e-01\\n -1.30264029e-01  2.55290959e-02 -4.06412482e-02  1.48008138e-01\\n -1.75998688e-01 -1.58382565e-01  3.50883156e-02  1.63520984e-02\\n  6.51485696e-02  1.56871118e-02  3.16864485e-03  1.22253843e-01\\n -1.48862138e-01 -3.98002490e-02  4.96997759e-02  1.59364045e-01\\n  3.17776948e-02 -1.65292826e-02  4.42540087e-02  1.07104428e-01\\n -2.62854900e-02  1.04495019e-01  5.17359003e-02  2.08445624e-01\\n  2.46157050e-02  1.03677325e-01 -2.45795429e-01 -3.90232168e-02\\n -6.33755401e-02  1.79766893e-01 -2.89442331e-01  7.82433674e-02\\n -1.16219036e-02  1.24077410e-01  2.24003538e-01  1.21260099e-01]')",
     "output_type": "error",
     "traceback": [
      "\u001b[0;31m---------------------------------------------------------------------------\u001b[0m",
      "\u001b[0;31mValueError\u001b[0m                                Traceback (most recent call last)",
      "Cell \u001b[0;32mIn[6], line 5\u001b[0m\n\u001b[1;32m      3\u001b[0m \u001b[38;5;66;03m# Random Forest with class weights\u001b[39;00m\n\u001b[1;32m      4\u001b[0m rf_clf \u001b[38;5;241m=\u001b[39m RandomForestClassifier(n_estimators\u001b[38;5;241m=\u001b[39m\u001b[38;5;241m100\u001b[39m, class_weight\u001b[38;5;241m=\u001b[39m\u001b[38;5;124m'\u001b[39m\u001b[38;5;124mbalanced\u001b[39m\u001b[38;5;124m'\u001b[39m, random_state\u001b[38;5;241m=\u001b[39m\u001b[38;5;241m42\u001b[39m)\n\u001b[0;32m----> 5\u001b[0m \u001b[43mrf_clf\u001b[49m\u001b[38;5;241;43m.\u001b[39;49m\u001b[43mfit\u001b[49m\u001b[43m(\u001b[49m\u001b[43mX_train\u001b[49m\u001b[43m,\u001b[49m\u001b[43m \u001b[49m\u001b[43my_train\u001b[49m\u001b[43m)\u001b[49m\n\u001b[1;32m      6\u001b[0m y_pred_rf \u001b[38;5;241m=\u001b[39m rf_clf\u001b[38;5;241m.\u001b[39mpredict(X_test)\n",
      "File \u001b[0;32m~/Desktop/language_classification/mood-env/lib/python3.12/site-packages/sklearn/base.py:1473\u001b[0m, in \u001b[0;36m_fit_context.<locals>.decorator.<locals>.wrapper\u001b[0;34m(estimator, *args, **kwargs)\u001b[0m\n\u001b[1;32m   1466\u001b[0m     estimator\u001b[38;5;241m.\u001b[39m_validate_params()\n\u001b[1;32m   1468\u001b[0m \u001b[38;5;28;01mwith\u001b[39;00m config_context(\n\u001b[1;32m   1469\u001b[0m     skip_parameter_validation\u001b[38;5;241m=\u001b[39m(\n\u001b[1;32m   1470\u001b[0m         prefer_skip_nested_validation \u001b[38;5;129;01mor\u001b[39;00m global_skip_validation\n\u001b[1;32m   1471\u001b[0m     )\n\u001b[1;32m   1472\u001b[0m ):\n\u001b[0;32m-> 1473\u001b[0m     \u001b[38;5;28;01mreturn\u001b[39;00m \u001b[43mfit_method\u001b[49m\u001b[43m(\u001b[49m\u001b[43mestimator\u001b[49m\u001b[43m,\u001b[49m\u001b[43m \u001b[49m\u001b[38;5;241;43m*\u001b[39;49m\u001b[43margs\u001b[49m\u001b[43m,\u001b[49m\u001b[43m \u001b[49m\u001b[38;5;241;43m*\u001b[39;49m\u001b[38;5;241;43m*\u001b[39;49m\u001b[43mkwargs\u001b[49m\u001b[43m)\u001b[49m\n",
      "File \u001b[0;32m~/Desktop/language_classification/mood-env/lib/python3.12/site-packages/sklearn/ensemble/_forest.py:363\u001b[0m, in \u001b[0;36mBaseForest.fit\u001b[0;34m(self, X, y, sample_weight)\u001b[0m\n\u001b[1;32m    360\u001b[0m \u001b[38;5;28;01mif\u001b[39;00m issparse(y):\n\u001b[1;32m    361\u001b[0m     \u001b[38;5;28;01mraise\u001b[39;00m \u001b[38;5;167;01mValueError\u001b[39;00m(\u001b[38;5;124m\"\u001b[39m\u001b[38;5;124msparse multilabel-indicator for y is not supported.\u001b[39m\u001b[38;5;124m\"\u001b[39m)\n\u001b[0;32m--> 363\u001b[0m X, y \u001b[38;5;241m=\u001b[39m \u001b[38;5;28;43mself\u001b[39;49m\u001b[38;5;241;43m.\u001b[39;49m\u001b[43m_validate_data\u001b[49m\u001b[43m(\u001b[49m\n\u001b[1;32m    364\u001b[0m \u001b[43m    \u001b[49m\u001b[43mX\u001b[49m\u001b[43m,\u001b[49m\n\u001b[1;32m    365\u001b[0m \u001b[43m    \u001b[49m\u001b[43my\u001b[49m\u001b[43m,\u001b[49m\n\u001b[1;32m    366\u001b[0m \u001b[43m    \u001b[49m\u001b[43mmulti_output\u001b[49m\u001b[38;5;241;43m=\u001b[39;49m\u001b[38;5;28;43;01mTrue\u001b[39;49;00m\u001b[43m,\u001b[49m\n\u001b[1;32m    367\u001b[0m \u001b[43m    \u001b[49m\u001b[43maccept_sparse\u001b[49m\u001b[38;5;241;43m=\u001b[39;49m\u001b[38;5;124;43m\"\u001b[39;49m\u001b[38;5;124;43mcsc\u001b[39;49m\u001b[38;5;124;43m\"\u001b[39;49m\u001b[43m,\u001b[49m\n\u001b[1;32m    368\u001b[0m \u001b[43m    \u001b[49m\u001b[43mdtype\u001b[49m\u001b[38;5;241;43m=\u001b[39;49m\u001b[43mDTYPE\u001b[49m\u001b[43m,\u001b[49m\n\u001b[1;32m    369\u001b[0m \u001b[43m    \u001b[49m\u001b[43mforce_all_finite\u001b[49m\u001b[38;5;241;43m=\u001b[39;49m\u001b[38;5;28;43;01mFalse\u001b[39;49;00m\u001b[43m,\u001b[49m\n\u001b[1;32m    370\u001b[0m \u001b[43m\u001b[49m\u001b[43m)\u001b[49m\n\u001b[1;32m    371\u001b[0m \u001b[38;5;66;03m# _compute_missing_values_in_feature_mask checks if X has missing values and\u001b[39;00m\n\u001b[1;32m    372\u001b[0m \u001b[38;5;66;03m# will raise an error if the underlying tree base estimator can't handle missing\u001b[39;00m\n\u001b[1;32m    373\u001b[0m \u001b[38;5;66;03m# values. Only the criterion is required to determine if the tree supports\u001b[39;00m\n\u001b[1;32m    374\u001b[0m \u001b[38;5;66;03m# missing values.\u001b[39;00m\n\u001b[1;32m    375\u001b[0m estimator \u001b[38;5;241m=\u001b[39m \u001b[38;5;28mtype\u001b[39m(\u001b[38;5;28mself\u001b[39m\u001b[38;5;241m.\u001b[39mestimator)(criterion\u001b[38;5;241m=\u001b[39m\u001b[38;5;28mself\u001b[39m\u001b[38;5;241m.\u001b[39mcriterion)\n",
      "File \u001b[0;32m~/Desktop/language_classification/mood-env/lib/python3.12/site-packages/sklearn/base.py:650\u001b[0m, in \u001b[0;36mBaseEstimator._validate_data\u001b[0;34m(self, X, y, reset, validate_separately, cast_to_ndarray, **check_params)\u001b[0m\n\u001b[1;32m    648\u001b[0m         y \u001b[38;5;241m=\u001b[39m check_array(y, input_name\u001b[38;5;241m=\u001b[39m\u001b[38;5;124m\"\u001b[39m\u001b[38;5;124my\u001b[39m\u001b[38;5;124m\"\u001b[39m, \u001b[38;5;241m*\u001b[39m\u001b[38;5;241m*\u001b[39mcheck_y_params)\n\u001b[1;32m    649\u001b[0m     \u001b[38;5;28;01melse\u001b[39;00m:\n\u001b[0;32m--> 650\u001b[0m         X, y \u001b[38;5;241m=\u001b[39m \u001b[43mcheck_X_y\u001b[49m\u001b[43m(\u001b[49m\u001b[43mX\u001b[49m\u001b[43m,\u001b[49m\u001b[43m \u001b[49m\u001b[43my\u001b[49m\u001b[43m,\u001b[49m\u001b[43m \u001b[49m\u001b[38;5;241;43m*\u001b[39;49m\u001b[38;5;241;43m*\u001b[39;49m\u001b[43mcheck_params\u001b[49m\u001b[43m)\u001b[49m\n\u001b[1;32m    651\u001b[0m     out \u001b[38;5;241m=\u001b[39m X, y\n\u001b[1;32m    653\u001b[0m \u001b[38;5;28;01mif\u001b[39;00m \u001b[38;5;129;01mnot\u001b[39;00m no_val_X \u001b[38;5;129;01mand\u001b[39;00m check_params\u001b[38;5;241m.\u001b[39mget(\u001b[38;5;124m\"\u001b[39m\u001b[38;5;124mensure_2d\u001b[39m\u001b[38;5;124m\"\u001b[39m, \u001b[38;5;28;01mTrue\u001b[39;00m):\n",
      "File \u001b[0;32m~/Desktop/language_classification/mood-env/lib/python3.12/site-packages/sklearn/utils/validation.py:1301\u001b[0m, in \u001b[0;36mcheck_X_y\u001b[0;34m(X, y, accept_sparse, accept_large_sparse, dtype, order, copy, force_writeable, force_all_finite, ensure_2d, allow_nd, multi_output, ensure_min_samples, ensure_min_features, y_numeric, estimator)\u001b[0m\n\u001b[1;32m   1296\u001b[0m         estimator_name \u001b[38;5;241m=\u001b[39m _check_estimator_name(estimator)\n\u001b[1;32m   1297\u001b[0m     \u001b[38;5;28;01mraise\u001b[39;00m \u001b[38;5;167;01mValueError\u001b[39;00m(\n\u001b[1;32m   1298\u001b[0m         \u001b[38;5;124mf\u001b[39m\u001b[38;5;124m\"\u001b[39m\u001b[38;5;132;01m{\u001b[39;00mestimator_name\u001b[38;5;132;01m}\u001b[39;00m\u001b[38;5;124m requires y to be passed, but the target y is None\u001b[39m\u001b[38;5;124m\"\u001b[39m\n\u001b[1;32m   1299\u001b[0m     )\n\u001b[0;32m-> 1301\u001b[0m X \u001b[38;5;241m=\u001b[39m \u001b[43mcheck_array\u001b[49m\u001b[43m(\u001b[49m\n\u001b[1;32m   1302\u001b[0m \u001b[43m    \u001b[49m\u001b[43mX\u001b[49m\u001b[43m,\u001b[49m\n\u001b[1;32m   1303\u001b[0m \u001b[43m    \u001b[49m\u001b[43maccept_sparse\u001b[49m\u001b[38;5;241;43m=\u001b[39;49m\u001b[43maccept_sparse\u001b[49m\u001b[43m,\u001b[49m\n\u001b[1;32m   1304\u001b[0m \u001b[43m    \u001b[49m\u001b[43maccept_large_sparse\u001b[49m\u001b[38;5;241;43m=\u001b[39;49m\u001b[43maccept_large_sparse\u001b[49m\u001b[43m,\u001b[49m\n\u001b[1;32m   1305\u001b[0m \u001b[43m    \u001b[49m\u001b[43mdtype\u001b[49m\u001b[38;5;241;43m=\u001b[39;49m\u001b[43mdtype\u001b[49m\u001b[43m,\u001b[49m\n\u001b[1;32m   1306\u001b[0m \u001b[43m    \u001b[49m\u001b[43morder\u001b[49m\u001b[38;5;241;43m=\u001b[39;49m\u001b[43morder\u001b[49m\u001b[43m,\u001b[49m\n\u001b[1;32m   1307\u001b[0m \u001b[43m    \u001b[49m\u001b[43mcopy\u001b[49m\u001b[38;5;241;43m=\u001b[39;49m\u001b[43mcopy\u001b[49m\u001b[43m,\u001b[49m\n\u001b[1;32m   1308\u001b[0m \u001b[43m    \u001b[49m\u001b[43mforce_writeable\u001b[49m\u001b[38;5;241;43m=\u001b[39;49m\u001b[43mforce_writeable\u001b[49m\u001b[43m,\u001b[49m\n\u001b[1;32m   1309\u001b[0m \u001b[43m    \u001b[49m\u001b[43mforce_all_finite\u001b[49m\u001b[38;5;241;43m=\u001b[39;49m\u001b[43mforce_all_finite\u001b[49m\u001b[43m,\u001b[49m\n\u001b[1;32m   1310\u001b[0m \u001b[43m    \u001b[49m\u001b[43mensure_2d\u001b[49m\u001b[38;5;241;43m=\u001b[39;49m\u001b[43mensure_2d\u001b[49m\u001b[43m,\u001b[49m\n\u001b[1;32m   1311\u001b[0m \u001b[43m    \u001b[49m\u001b[43mallow_nd\u001b[49m\u001b[38;5;241;43m=\u001b[39;49m\u001b[43mallow_nd\u001b[49m\u001b[43m,\u001b[49m\n\u001b[1;32m   1312\u001b[0m \u001b[43m    \u001b[49m\u001b[43mensure_min_samples\u001b[49m\u001b[38;5;241;43m=\u001b[39;49m\u001b[43mensure_min_samples\u001b[49m\u001b[43m,\u001b[49m\n\u001b[1;32m   1313\u001b[0m \u001b[43m    \u001b[49m\u001b[43mensure_min_features\u001b[49m\u001b[38;5;241;43m=\u001b[39;49m\u001b[43mensure_min_features\u001b[49m\u001b[43m,\u001b[49m\n\u001b[1;32m   1314\u001b[0m \u001b[43m    \u001b[49m\u001b[43mestimator\u001b[49m\u001b[38;5;241;43m=\u001b[39;49m\u001b[43mestimator\u001b[49m\u001b[43m,\u001b[49m\n\u001b[1;32m   1315\u001b[0m \u001b[43m    \u001b[49m\u001b[43minput_name\u001b[49m\u001b[38;5;241;43m=\u001b[39;49m\u001b[38;5;124;43m\"\u001b[39;49m\u001b[38;5;124;43mX\u001b[39;49m\u001b[38;5;124;43m\"\u001b[39;49m\u001b[43m,\u001b[49m\n\u001b[1;32m   1316\u001b[0m \u001b[43m\u001b[49m\u001b[43m)\u001b[49m\n\u001b[1;32m   1318\u001b[0m y \u001b[38;5;241m=\u001b[39m _check_y(y, multi_output\u001b[38;5;241m=\u001b[39mmulti_output, y_numeric\u001b[38;5;241m=\u001b[39my_numeric, estimator\u001b[38;5;241m=\u001b[39mestimator)\n\u001b[1;32m   1320\u001b[0m check_consistent_length(X, y)\n",
      "File \u001b[0;32m~/Desktop/language_classification/mood-env/lib/python3.12/site-packages/sklearn/utils/validation.py:1012\u001b[0m, in \u001b[0;36mcheck_array\u001b[0;34m(array, accept_sparse, accept_large_sparse, dtype, order, copy, force_writeable, force_all_finite, ensure_2d, allow_nd, ensure_min_samples, ensure_min_features, estimator, input_name)\u001b[0m\n\u001b[1;32m   1010\u001b[0m         array \u001b[38;5;241m=\u001b[39m xp\u001b[38;5;241m.\u001b[39mastype(array, dtype, copy\u001b[38;5;241m=\u001b[39m\u001b[38;5;28;01mFalse\u001b[39;00m)\n\u001b[1;32m   1011\u001b[0m     \u001b[38;5;28;01melse\u001b[39;00m:\n\u001b[0;32m-> 1012\u001b[0m         array \u001b[38;5;241m=\u001b[39m \u001b[43m_asarray_with_order\u001b[49m\u001b[43m(\u001b[49m\u001b[43marray\u001b[49m\u001b[43m,\u001b[49m\u001b[43m \u001b[49m\u001b[43morder\u001b[49m\u001b[38;5;241;43m=\u001b[39;49m\u001b[43morder\u001b[49m\u001b[43m,\u001b[49m\u001b[43m \u001b[49m\u001b[43mdtype\u001b[49m\u001b[38;5;241;43m=\u001b[39;49m\u001b[43mdtype\u001b[49m\u001b[43m,\u001b[49m\u001b[43m \u001b[49m\u001b[43mxp\u001b[49m\u001b[38;5;241;43m=\u001b[39;49m\u001b[43mxp\u001b[49m\u001b[43m)\u001b[49m\n\u001b[1;32m   1013\u001b[0m \u001b[38;5;28;01mexcept\u001b[39;00m ComplexWarning \u001b[38;5;28;01mas\u001b[39;00m complex_warning:\n\u001b[1;32m   1014\u001b[0m     \u001b[38;5;28;01mraise\u001b[39;00m \u001b[38;5;167;01mValueError\u001b[39;00m(\n\u001b[1;32m   1015\u001b[0m         \u001b[38;5;124m\"\u001b[39m\u001b[38;5;124mComplex data not supported\u001b[39m\u001b[38;5;130;01m\\n\u001b[39;00m\u001b[38;5;132;01m{}\u001b[39;00m\u001b[38;5;130;01m\\n\u001b[39;00m\u001b[38;5;124m\"\u001b[39m\u001b[38;5;241m.\u001b[39mformat(array)\n\u001b[1;32m   1016\u001b[0m     ) \u001b[38;5;28;01mfrom\u001b[39;00m \u001b[38;5;21;01mcomplex_warning\u001b[39;00m\n",
      "File \u001b[0;32m~/Desktop/language_classification/mood-env/lib/python3.12/site-packages/sklearn/utils/_array_api.py:745\u001b[0m, in \u001b[0;36m_asarray_with_order\u001b[0;34m(array, dtype, order, copy, xp, device)\u001b[0m\n\u001b[1;32m    743\u001b[0m     array \u001b[38;5;241m=\u001b[39m numpy\u001b[38;5;241m.\u001b[39marray(array, order\u001b[38;5;241m=\u001b[39morder, dtype\u001b[38;5;241m=\u001b[39mdtype)\n\u001b[1;32m    744\u001b[0m \u001b[38;5;28;01melse\u001b[39;00m:\n\u001b[0;32m--> 745\u001b[0m     array \u001b[38;5;241m=\u001b[39m \u001b[43mnumpy\u001b[49m\u001b[38;5;241;43m.\u001b[39;49m\u001b[43masarray\u001b[49m\u001b[43m(\u001b[49m\u001b[43marray\u001b[49m\u001b[43m,\u001b[49m\u001b[43m \u001b[49m\u001b[43morder\u001b[49m\u001b[38;5;241;43m=\u001b[39;49m\u001b[43morder\u001b[49m\u001b[43m,\u001b[49m\u001b[43m \u001b[49m\u001b[43mdtype\u001b[49m\u001b[38;5;241;43m=\u001b[39;49m\u001b[43mdtype\u001b[49m\u001b[43m)\u001b[49m\n\u001b[1;32m    747\u001b[0m \u001b[38;5;66;03m# At this point array is a NumPy ndarray. We convert it to an array\u001b[39;00m\n\u001b[1;32m    748\u001b[0m \u001b[38;5;66;03m# container that is consistent with the input's namespace.\u001b[39;00m\n\u001b[1;32m    749\u001b[0m \u001b[38;5;28;01mreturn\u001b[39;00m xp\u001b[38;5;241m.\u001b[39masarray(array)\n",
      "\u001b[0;31mValueError\u001b[0m: could not convert string to float: np.str_('[-3.85316342e-01  1.46218920e-02 -8.26908350e-02  8.23198408e-02\\n -1.79666534e-01 -2.90018678e-01  4.48835880e-01  2.64276952e-01\\n  1.81431219e-01 -2.71614850e-01  3.02992046e-01 -6.09444873e-03\\n -1.57531470e-01  2.41995323e-02 -2.48836264e-01 -2.05960169e-01\\n  4.46876884e-03  1.20215885e-01  2.27712572e-01  3.31243426e-02\\n  2.22643852e-01  1.60406366e-01  3.68424393e-02  3.90126295e-02\\n  2.74826959e-02 -1.15977719e-01  8.42377394e-02 -1.55582398e-01\\n  1.72730267e-01 -1.42357960e-01  2.09549665e-01  2.48326406e-01\\n  8.59264433e-02 -8.08431357e-02 -6.38848450e-03 -2.11938899e-02\\n  3.01698633e-02  1.53161570e-01  3.35449219e-01  1.46061227e-01\\n -2.03180715e-01 -1.41717587e-02 -1.28250435e-01  9.78367701e-02\\n -9.88165662e-03 -7.28817806e-02 -2.43692979e-01  1.46324709e-01\\n -1.66519493e-01  1.56772599e-01  1.22013897e-01 -1.78400412e-01\\n -3.69475335e-01 -1.41301095e-01  1.02232568e-01 -1.62985727e-01\\n  8.72811750e-02  1.19230576e-01 -3.16517465e-02  2.96361953e-01\\n  9.95262563e-02  4.65007842e-01 -5.95989704e-01  2.39610225e-01\\n -3.49776864e-01 -3.38980369e-02  2.91907519e-01 -1.58666298e-01\\n -5.08876480e-02  2.82857150e-01  1.12087861e-01  1.44927055e-01\\n  2.17408203e-02 -1.48958629e-02  9.63512063e-03  8.78318697e-02\\n -1.56177226e-02 -5.79797402e-02 -2.35327870e-01 -4.77667376e-02\\n  2.46454820e-01 -1.30723352e-02 -1.33700103e-01  8.79281312e-02\\n  1.38211668e-01  1.45457759e-01  8.48516524e-02  1.65457696e-01\\n  1.18195310e-01  1.89281199e-02  1.88361749e-01 -2.60922641e-01\\n -2.56214454e-03  7.54050910e-02  4.15531516e-01  2.88391262e-01\\n  3.95823531e-02 -5.38012534e-02 -4.21237536e-02  5.01777112e-01\\n -5.56033216e-02  1.12068867e-02 -1.05342738e-01  3.09760198e-02\\n -2.75069871e-03  1.24692153e-02  1.86349422e-01 -7.32914954e-02\\n  1.51747882e-01  5.96852042e-02 -2.91099340e-01 -3.86073850e-02\\n  1.82931833e-02 -2.16289178e-01 -1.06318876e-01 -1.24520339e-01\\n -1.74945652e-01  1.88449681e-01 -1.51097327e-01  1.04489431e-01\\n  6.89928606e-02 -4.51062471e-02  1.41798258e-01  1.19821150e-02\\n  5.85304126e-02 -2.57508546e-01  7.80344382e-02  2.81800419e-01\\n -1.94244701e-02  1.08066469e-01  3.97739917e-01 -8.05157349e-02\\n  2.54438753e-04 -3.26120518e-02 -4.97177094e-02  1.72280110e-02\\n  9.34355631e-02  1.26274358e-02 -1.26796901e-01 -1.85782939e-01\\n -1.52531222e-01 -1.35709301e-01 -2.35758275e-01 -1.29062831e-01\\n  8.93354788e-02  5.79757504e-02  3.30955356e-01  2.87673861e-01\\n  1.74720943e-01  2.63047248e-01 -4.34334911e-02 -2.16450080e-01\\n -1.19913311e-03  4.18936089e-02  5.76584302e-02 -6.11760169e-02\\n  1.05529860e-01 -2.27513677e-03  2.08709091e-01 -1.96268499e-01\\n -3.37897658e-01 -7.22263381e-02 -5.72124915e-03 -1.05010144e-01\\n -2.28522241e-01 -2.34413221e-01 -2.38488436e-01  5.55211045e-02\\n  1.35808885e-01  7.31666610e-02  8.62661190e-03  1.14636339e-01\\n  2.05993522e-02  1.90064982e-01 -6.80866390e-02  2.71237105e-01\\n -1.68632910e-01 -6.98947012e-02 -1.17532715e-01 -3.26212272e-02\\n  1.05552167e-01  1.10469423e-01 -8.35610554e-02 -8.49321336e-02\\n -1.91754088e-01  2.02344790e-01  2.60714442e-01  2.53614545e-01\\n  5.54689430e-02 -9.63511392e-02  2.04116125e-02  7.97514394e-02\\n -1.63521841e-01 -1.74837317e-02 -2.62584180e-01 -2.92930812e-01\\n  6.82456121e-02  2.21965566e-01 -2.53090322e-01  3.32522951e-02\\n -3.12086314e-01 -1.45296633e-01  2.14785904e-01 -2.23318174e-01\\n  1.86901465e-01 -6.94300001e-03 -2.04710454e-01  4.74965572e-03\\n -1.62682936e-01 -3.25397432e-01 -2.55353421e-01  6.82363510e-02\\n -1.59346849e-01  1.24825910e-01  1.30735729e-02  2.24497795e-01\\n  8.53489116e-02 -1.25876188e-01 -1.23784192e-01  6.41062707e-02\\n  5.27963042e-02 -3.17688406e-01 -6.77697957e-02 -4.95255321e-01\\n  1.11296043e-01 -2.28933841e-01 -5.17012738e-02  1.87716447e-02\\n -2.50106603e-01 -6.96783736e-02 -1.01509184e-01 -2.10411362e-02\\n  1.12911552e-01 -3.55956964e-02 -1.13510743e-01  1.34650126e-01\\n  2.31928602e-01 -9.18327123e-02 -2.17194273e-03  1.07085304e-02\\n -1.18707962e-01 -3.36044967e-01 -1.60003021e-01  7.83239398e-03\\n -2.48221695e-01  1.70486309e-02 -7.17848446e-03  2.74064541e-01\\n  4.91690636e-03  5.35785913e-01  5.08453473e-02 -3.09844613e-01\\n -1.21482655e-01  1.84007645e-01  1.36087134e-01 -3.58653069e-02\\n -2.31299363e-02 -3.29445191e-02 -1.77665964e-01  2.86765695e-01\\n  1.77012920e-01  9.24854651e-02 -8.52162838e-02  1.43747598e-01\\n  3.73587385e-02 -4.12512645e-02 -5.97233847e-02  2.82223195e-01\\n  2.49206387e-02  1.09941468e-01  3.56462598e-02 -2.39806831e-01\\n  2.10605145e-01 -3.41155827e-01  2.22558156e-01  4.54941466e-02\\n  4.45613600e-02 -2.18300745e-01  4.54382718e-01 -1.84225962e-01\\n -1.58028930e-01 -3.16148609e-01 -2.68083327e-02 -1.81774035e-01\\n -1.70739755e-01  1.08322196e-01  2.29799971e-02  6.36868179e-02\\n -1.64808974e-01  1.65485702e-02 -2.31076539e-01  4.05985475e-01\\n  4.02686745e-02 -2.44652301e-01  8.24653283e-02 -1.21411078e-01\\n  1.57109573e-01  2.40572050e-01 -2.17072159e-01 -1.05967335e-01\\n -3.41615044e-02 -2.87194899e-03  2.53606141e-01  6.39977341e-04\\n -1.12220936e-01 -2.49492779e-01 -5.13276607e-02 -1.86140627e-01\\n  1.02187410e-01 -1.72406301e-01  1.27979979e-01 -9.40610319e-02\\n  1.17844261e-01 -6.28198087e-02  2.14756891e-01  3.26745629e-01\\n  9.02018398e-02  1.74637869e-01  3.62195373e-01 -5.53362191e-01\\n  3.38910404e-03 -2.62396365e-01 -4.36675370e-01  1.85302719e-01\\n  4.87323068e-02  1.62752628e-01  4.06383350e-02 -4.42671701e-02\\n  1.86608419e-01  2.23040670e-01 -1.70422897e-01  1.80642039e-01\\n -2.20205281e-02 -1.68027416e-01  1.79882184e-01  2.96290159e-01\\n -5.61842993e-02 -5.50088808e-02 -6.38071820e-02 -1.68329790e-01\\n -1.25201404e-01  1.96710736e-01  1.07829869e-02 -4.72772300e-01\\n  1.00196913e-01 -5.38781285e-03 -4.64245826e-02 -2.42681816e-01\\n -1.30264029e-01  2.55290959e-02 -4.06412482e-02  1.48008138e-01\\n -1.75998688e-01 -1.58382565e-01  3.50883156e-02  1.63520984e-02\\n  6.51485696e-02  1.56871118e-02  3.16864485e-03  1.22253843e-01\\n -1.48862138e-01 -3.98002490e-02  4.96997759e-02  1.59364045e-01\\n  3.17776948e-02 -1.65292826e-02  4.42540087e-02  1.07104428e-01\\n -2.62854900e-02  1.04495019e-01  5.17359003e-02  2.08445624e-01\\n  2.46157050e-02  1.03677325e-01 -2.45795429e-01 -3.90232168e-02\\n -6.33755401e-02  1.79766893e-01 -2.89442331e-01  7.82433674e-02\\n -1.16219036e-02  1.24077410e-01  2.24003538e-01  1.21260099e-01]')"
     ]
    }
   ],
   "source": [
    "from sklearn.ensemble import RandomForestClassifier\n",
    "\n",
    "# Random Forest with class weights\n",
    "rf_clf = RandomForestClassifier(n_estimators=100, class_weight='balanced', random_state=42)\n",
    "rf_clf.fit(X_train, y_train)\n",
    "y_pred_rf = rf_clf.predict(X_test)\n",
    "\n"
   ]
  },
  {
   "cell_type": "code",
   "execution_count": 8,
   "metadata": {},
   "outputs": [],
   "source": [
    "\"\"\"\n",
    "from sklearn.model_selection import cross_val_score\n",
    "\n",
    "def evaluate_model(model, X_train, y_train):\n",
    "    scores = cross_val_score(model, X_train, y_train, cv=5, scoring='accuracy')\n",
    "    print(f'Model: {model.__class__.__name__}, Mean Accuracy: {np.mean(scores):.2f}, Std: {np.std(scores):.2f}')\n",
    "\"\"\"\n"
   ]
  }
 ],
 "metadata": {
  "kernelspec": {
   "display_name": "mood-env",
   "language": "python",
   "name": "python3"
  },
  "language_info": {
   "codemirror_mode": {
    "name": "ipython",
    "version": 3
   },
   "file_extension": ".py",
   "mimetype": "text/x-python",
   "name": "python",
   "nbconvert_exporter": "python",
   "pygments_lexer": "ipython3",
   "version": "3.12.4"
  }
 },
 "nbformat": 4,
 "nbformat_minor": 2
}
